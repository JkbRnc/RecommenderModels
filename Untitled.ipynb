{
 "cells": [
  {
   "cell_type": "code",
   "execution_count": 2,
   "id": "16943ddd-e959-46dd-bf9d-03a7f46cd0b7",
   "metadata": {},
   "outputs": [],
   "source": [
    "import numpy as np"
   ]
  },
  {
   "cell_type": "code",
   "execution_count": 23,
   "id": "23f75298-8da8-4998-85f7-e45bdd9f0301",
   "metadata": {
    "scrolled": true
   },
   "outputs": [],
   "source": [
    "from models.utils.Loss import RMSELoss\n",
    "from models.AutoRec import AutoRec"
   ]
  },
  {
   "cell_type": "code",
   "execution_count": 9,
   "id": "2d608ad8-fb34-479c-b39f-41c87a5ac347",
   "metadata": {},
   "outputs": [],
   "source": [
    "import models\n",
    "import torch"
   ]
  },
  {
   "cell_type": "code",
   "execution_count": 12,
   "id": "42a5d1ed-bd5f-448a-80bf-765801f3db03",
   "metadata": {},
   "outputs": [
    {
     "data": {
      "text/plain": [
       "tensor(8.)"
      ]
     },
     "execution_count": 12,
     "metadata": {},
     "output_type": "execute_result"
    }
   ],
   "source": [
    "l = models.utils.Loss.RMSELoss()\n",
    "l(torch.tensor([12.]),torch.tensor([20.]))"
   ]
  },
  {
   "cell_type": "code",
   "execution_count": 18,
   "id": "319d53d9-49bd-494b-b811-2fa135ff38a4",
   "metadata": {},
   "outputs": [
    {
     "data": {
      "text/plain": [
       "tensor(2.)"
      ]
     },
     "execution_count": 18,
     "metadata": {},
     "output_type": "execute_result"
    }
   ],
   "source": [
    "m = RMSELoss()\n",
    "m(torch.tensor([3.]),torch.tensor([1.]))"
   ]
  },
  {
   "cell_type": "code",
   "execution_count": 21,
   "id": "0733af8f-b6ac-4e31-837a-f4e8961913af",
   "metadata": {},
   "outputs": [
    {
     "data": {
      "text/plain": [
       "tensor(8.)"
      ]
     },
     "execution_count": 21,
     "metadata": {},
     "output_type": "execute_result"
    }
   ],
   "source": [
    "m(torch.tensor([12.]),torch.tensor([20.]))"
   ]
  },
  {
   "cell_type": "code",
   "execution_count": null,
   "id": "569935ad-7248-455b-b5a8-fc348279309b",
   "metadata": {},
   "outputs": [],
   "source": []
  }
 ],
 "metadata": {
  "kernelspec": {
   "display_name": "Python 3 (ipykernel)",
   "language": "python",
   "name": "python3"
  },
  "language_info": {
   "codemirror_mode": {
    "name": "ipython",
    "version": 3
   },
   "file_extension": ".py",
   "mimetype": "text/x-python",
   "name": "python",
   "nbconvert_exporter": "python",
   "pygments_lexer": "ipython3",
   "version": "3.10.12"
  }
 },
 "nbformat": 4,
 "nbformat_minor": 5
}
